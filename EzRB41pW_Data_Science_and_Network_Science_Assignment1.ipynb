{
  "nbformat": 4,
  "nbformat_minor": 0,
  "metadata": {
    "colab": {
      "name": "EzRB41pW_Data_Science_and_Network_Science_Assignment1.ipynb",
      "provenance": [],
      "collapsed_sections": [],
      "toc_visible": true,
      "authorship_tag": "ABX9TyNX+PVSmu45RcOJj3IGjzxS",
      "include_colab_link": true
    },
    "kernelspec": {
      "name": "python3",
      "display_name": "Python 3"
    },
    "language_info": {
      "name": "python"
    }
  },
  "cells": [
    {
      "cell_type": "markdown",
      "metadata": {
        "id": "view-in-github",
        "colab_type": "text"
      },
      "source": [
        "<a href=\"https://colab.research.google.com/github/AliceWachira/Head-Space-and-Sanity-Kenya-HSSK-/blob/master/EzRB41pW_Data_Science_and_Network_Science_Assignment1.ipynb\" target=\"_parent\"><img src=\"https://colab.research.google.com/assets/colab-badge.svg\" alt=\"Open In Colab\"/></a>"
      ]
    },
    {
      "cell_type": "markdown",
      "source": [
        "# **COURSE TITLE:** **NETWORK SCIENCE ASSIGNMENT 1**\n",
        "\n",
        "\n",
        "## **STUDENT CODE:EzRB41pW**\n",
        "\n",
        "# **LECURER : Dr. Franck Kalala Mutombo**"
      ],
      "metadata": {
        "id": "veEeMmDdHs94"
      }
    },
    {
      "cell_type": "markdown",
      "source": [
        "# **QUESTION 4:**\n",
        "\n",
        " **Usinging NetworkX to construct a graph representing the network.**"
      ],
      "metadata": {
        "id": "BZtMvPViIn-s"
      }
    },
    {
      "cell_type": "code",
      "source": [
        "import networkx as nx\n",
        "import pylab as plt\n",
        "G=nx.Graph()\n",
        "list_nodes=[1,2,3,4,5,6]\n",
        "G.add_nodes_from(list_nodes)\n",
        "edgelist=[(1,2),(1,3),(2,3),(2,4),(2,6),(3,5),(3,6),(4,6)]\n",
        "G.add_edges_from(edgelist)\n",
        "nx.draw(G,with_labels=True,node_color=\"yellow\",edge_color=\"magenta\",node_size=1500,font_size=30, font_color=\"black\")\n",
        "plt.show()\n",
        "print(plt.show())"
      ],
      "metadata": {
        "colab": {
          "base_uri": "https://localhost:8080/",
          "height": 337
        },
        "id": "y0HCthrlHqkU",
        "outputId": "e10712bb-fcd6-4d8f-aa84-31ade92ed561"
      },
      "execution_count": 26,
      "outputs": [
        {
          "output_type": "display_data",
          "data": {
            "image/png": "[encoded data removed]",
            "text/plain": [
              "<Figure size 432x288 with 1 Axes>"
            ]
          },
          "metadata": {}
        },
        {
          "output_type": "stream",
          "name": "stdout",
          "text": [
            "None\n"
          ]
        }
      ]
    },
    {
      "cell_type": "markdown",
      "source": [
        "a)**Computation of the adjacent matrix**"
      ],
      "metadata": {
        "id": "JOQbKW6OJKe2"
      }
    },
    {
      "cell_type": "code",
      "source": [
        "\n",
        "\n",
        "adj=nx.adjacency_matrix(G) \n",
        "A=adj.todense()\n",
        "A"
      ],
      "metadata": {
        "colab": {
          "base_uri": "https://localhost:8080/"
        },
        "id": "Kybm3vK0XWKl",
        "outputId": "cd05b9a0-e22a-41f6-a4cc-bfcf35053e34"
      },
      "execution_count": 31,
      "outputs": [
        {
          "output_type": "execute_result",
          "data": {
            "text/plain": [
              "matrix([[0, 1, 1, 0, 0, 0],\n",
              "        [1, 0, 1, 1, 0, 1],\n",
              "        [1, 1, 0, 0, 1, 1],\n",
              "        [0, 1, 0, 0, 0, 1],\n",
              "        [0, 0, 1, 0, 0, 0],\n",
              "        [0, 1, 1, 1, 0, 0]], dtype=int64)"
            ]
          },
          "metadata": {},
          "execution_count": 31
        }
      ]
    },
    {
      "cell_type": "markdown",
      "source": [
        "The adjacency matrix of the nextwork is \n",
        "\n",
        "$\\qquad \\qquad A=\t\\begin{bmatrix}\n",
        "\t\t0 & 1 & 1 & 0 & 0 & 0\\\\\n",
        "\t\t1 & 0 & 1 & 1 & 0 & 1\\\\\n",
        "\t\t1 & 1 & 0 & 0 & 1 & 1\\\\\n",
        "\t\t0 & 1 & 0 & 0 & 0 & 1\\\\\n",
        "\t\t0 & 0 & 1 & 0 & 0 & 0\\\\\n",
        "\t\t0 & 1 & 1 & 1 & 0 & 0\\\\\n",
        "\t\t\\end{bmatrix}$"
      ],
      "metadata": {
        "id": "jbXN5bU9TWVz"
      }
    },
    {
      "cell_type": "markdown",
      "source": [
        "b)**Listing the edges of the network**"
      ],
      "metadata": {
        "id": "NSDhDlPAJ8yP"
      }
    },
    {
      "cell_type": "code",
      "source": [
        "\n",
        "G.edges\n",
        "list(G.edges)"
      ],
      "metadata": {
        "colab": {
          "base_uri": "https://localhost:8080/"
        },
        "id": "29KTXeD8ZWkX",
        "outputId": "3a226477-68f0-4e09-e681-6829f1219898"
      },
      "execution_count": 5,
      "outputs": [
        {
          "output_type": "execute_result",
          "data": {
            "text/plain": [
              "[(1, 2), (1, 3), (2, 3), (2, 4), (2, 6), (3, 5), (3, 6), (4, 6)]"
            ]
          },
          "metadata": {},
          "execution_count": 5
        }
      ]
    },
    {
      "cell_type": "markdown",
      "source": [
        "We have 8 links in the network \n",
        "\n",
        "  [(1, 2), (1, 3), (2, 3), (2, 4), (2, 6), (3, 5), (3, 6), (4, 6)]"
      ],
      "metadata": {
        "id": "aZzHHdb8S4fR"
      }
    },
    {
      "cell_type": "markdown",
      "source": [
        "c) **Computing the average clustering of the graph**"
      ],
      "metadata": {
        "id": "wIJm8rszKKn1"
      }
    },
    {
      "cell_type": "code",
      "source": [
        "from networkx.algorithms.cluster import average_clustering\n",
        "print(nx.average_clustering(G))\n"
      ],
      "metadata": {
        "colab": {
          "base_uri": "https://localhost:8080/"
        },
        "id": "mHHDeQ81bXTV",
        "outputId": "b58fa471-7bca-4dce-e5f8-3a0d984807a0"
      },
      "execution_count": 23,
      "outputs": [
        {
          "output_type": "stream",
          "name": "stdout",
          "text": [
            "0.5833333333333333\n"
          ]
        }
      ]
    },
    {
      "cell_type": "markdown",
      "source": [
        "The average clustering of the graph is: 0.5833333333333"
      ],
      "metadata": {
        "id": "4ms7NY2DSo44"
      }
    },
    {
      "cell_type": "markdown",
      "source": [
        "d) **Switching the labels of node 5 and 6**"
      ],
      "metadata": {
        "id": "9lrZ1h7lK07U"
      }
    },
    {
      "cell_type": "code",
      "source": [
        "import networkx as nx\n",
        "import pylab as plt\n",
        "G2=nx.Graph()\n",
        "list_nodes=[1,2,3,4,5,6]\n",
        "G2.add_nodes_from(list_nodes)\n",
        "edgelist=[(1,2),(1,3),(2,3),(2,4),(2,5),(3,5),(3,6),(4,5)]\n",
        "G2.add_edges_from(edgelist)\n",
        "nx.draw(G2,with_labels=True,node_color=\"pink\",edge_color=\"blue\",node_size=1500,font_size=30, font_color=\"black\")\n",
        "plt.show()\n"
      ],
      "metadata": {
        "colab": {
          "base_uri": "https://localhost:8080/",
          "height": 319
        },
        "id": "LWr_R1Vwtwwq",
        "outputId": "4d017f33-3bb1-4637-e2d9-b7058d64c337"
      },
      "execution_count": 25,
      "outputs": [
        {
          "output_type": "display_data",
          "data": {
            "image/png": "[encoded data removed]",
            "text/plain": [
              "<Figure size 432x288 with 1 Axes>"
            ]
          },
          "metadata": {}
        }
      ]
    },
    {
      "cell_type": "markdown",
      "source": [
        "\n",
        "**Computation of the adjacent matrix of the network after switching node 5 and 6**\n"
      ],
      "metadata": {
        "id": "RWSCfXgxLv__"
      }
    },
    {
      "cell_type": "code",
      "source": [
        "adj2=nx.adjacency_matrix(G2) \n",
        "B=adj2.todense()\n",
        "B"
      ],
      "metadata": {
        "colab": {
          "base_uri": "https://localhost:8080/"
        },
        "id": "6FzEf40jxGwQ",
        "outputId": "8e99d146-2bca-4a98-a9a9-30f469e0d3da"
      },
      "execution_count": 9,
      "outputs": [
        {
          "output_type": "execute_result",
          "data": {
            "text/plain": [
              "matrix([[0, 1, 1, 0, 0, 0],\n",
              "        [1, 0, 1, 1, 1, 0],\n",
              "        [1, 1, 0, 0, 1, 1],\n",
              "        [0, 1, 0, 0, 1, 0],\n",
              "        [0, 1, 1, 1, 0, 0],\n",
              "        [0, 0, 1, 0, 0, 0]], dtype=int64)"
            ]
          },
          "metadata": {},
          "execution_count": 9
        }
      ]
    },
    {
      "cell_type": "markdown",
      "source": [
        "The adjacency matrix of the network after swapping is \n",
        "\n",
        "$B=\\begin{bmatrix}\n",
        "\t0 & 1 & 1 &0 & 0 &0\\\\\n",
        "\t1& 0& 1& 1&1& 0\\\\\n",
        "\t1& 1& 0& 0& 1& 1\\\\\n",
        "\t0& 1& 0& 0&1& 0\\\\\n",
        "\t0& 1& 1& 1& 0& 0\\\\\n",
        "\t0& 0& 1& 0& 0& 0\n",
        "\t\\end{bmatrix}$"
      ],
      "metadata": {
        "id": "GCmCVoTBUAhI"
      }
    },
    {
      "cell_type": "markdown",
      "source": [
        " **Listing the edges of the network after switching 5 and 6**"
      ],
      "metadata": {
        "id": "fOrLrs1sMdb-"
      }
    },
    {
      "cell_type": "code",
      "source": [
        "G2.edges\n",
        "list(G2.edges)"
      ],
      "metadata": {
        "colab": {
          "base_uri": "https://localhost:8080/"
        },
        "id": "WfGmIHFZA-Hd",
        "outputId": "aea7f858-ae0b-41da-be30-16ceb9c337f5"
      },
      "execution_count": 11,
      "outputs": [
        {
          "output_type": "execute_result",
          "data": {
            "text/plain": [
              "[(1, 2), (1, 3), (2, 3), (2, 4), (2, 5), (3, 5), (3, 6), (4, 5)]"
            ]
          },
          "metadata": {},
          "execution_count": 11
        }
      ]
    },
    {
      "cell_type": "markdown",
      "source": [
        "On switching the position of node 5 and node 6, there are two links which change. That is link (2,6) changes to (2,5) while (4,6) changes to (4,5)."
      ],
      "metadata": {
        "id": "ctcFaV5KMp0f"
      }
    },
    {
      "cell_type": "markdown",
      "source": [
        "e) **The kind of information we cannot infer from the link list representation of the\n",
        "network that we can infer from the adjacency matrix.**\n",
        "\n",
        "In the adjacency matrix, it is fast to lookup and check for presence or absence of a specific edge between any two nodes while in an adjacency list, finding the presence or absence of a particular edge is a bit slower."
      ],
      "metadata": {
        "id": "mJX3K__PRSo4"
      }
    },
    {
      "cell_type": "markdown",
      "source": [
        "f) **Computing the number of paths of length 3 from node 1 to node 3**"
      ],
      "metadata": {
        "id": "q6k9pv97QlUK"
      }
    },
    {
      "cell_type": "code",
      "source": [
        "path_matrix=A**3\n",
        "path_matrix[0,2] \n"
      ],
      "metadata": {
        "id": "e2DrDmK9Kpua",
        "colab": {
          "base_uri": "https://localhost:8080/"
        },
        "outputId": "d2d70c68-762b-47b1-9092-4149b407da39"
      },
      "execution_count": 48,
      "outputs": [
        {
          "output_type": "execute_result",
          "data": {
            "text/plain": [
              "6"
            ]
          },
          "metadata": {},
          "execution_count": 48
        }
      ]
    },
    {
      "cell_type": "markdown",
      "source": [
        "There are 6 paths of length 3 moving from node 1 to node 3."
      ],
      "metadata": {
        "id": "d4NYj-UKNYCC"
      }
    },
    {
      "cell_type": "markdown",
      "source": [
        "g) **Computing the number of cycles of length 4 in the network**"
      ],
      "metadata": {
        "id": "kEcImxR8NtgU"
      }
    },
    {
      "cell_type": "code",
      "source": [
        "a= G.to_directed()\n",
        "s_cycles = list(nx.simple_cycles(a))\n",
        "len(s_cycles)\n",
        "for i in s_cycles :\n",
        "    if len (i)==4:\n",
        "      print(i)"
      ],
      "metadata": {
        "colab": {
          "base_uri": "https://localhost:8080/"
        },
        "id": "w0bJtrHvK36l",
        "outputId": "f45c775f-9be9-4cce-e39e-f5e39b09285b"
      },
      "execution_count": 13,
      "outputs": [
        {
          "output_type": "stream",
          "name": "stdout",
          "text": [
            "[1, 3, 6, 2]\n",
            "[1, 2, 6, 3]\n",
            "[2, 4, 6, 3]\n",
            "[2, 3, 6, 4]\n"
          ]
        }
      ]
    },
    {
      "cell_type": "markdown",
      "source": [
        "There are four cycles of length 4 in the networn namely \n",
        "\n",
        "1. [1, 3, 6, 2] that is $ 1\\to 3 \\to 6\\to 2$\n",
        "2. [1, 2, 6, 3]  that is $ 1\\to 2 \\to 6\\to 3$\n",
        "3. [2, 4, 6, 3] that is $ 2\\to 4 \\to 6\\to 3$\n",
        "4. [2, 3, 6, 4] that is $ 2\\to 3 \\to 6\\to 4$\n",
        "\n",
        "\n"
      ],
      "metadata": {
        "id": "1L2TczQdN1FL"
      }
    },
    {
      "cell_type": "markdown",
      "source": [
        "# **QUESTION 5**\n",
        "**Representation of the bipartite graph**"
      ],
      "metadata": {
        "id": "mSjrhzsHP-Yl"
      }
    },
    {
      "cell_type": "code",
      "source": [
        "import networkx as nx\n",
        "import pylab as plt\n",
        "\n",
        "#First step is to import the bipartite module\n",
        "from networkx.algorithms import bipartite\n",
        "\n",
        "\n",
        "#We then initialize the graph\n",
        "G3=nx.Graph()\n",
        " \n",
        "#List of first set of nodes\n",
        "first_nodes=[1,2,3,4]\n",
        "\n",
        "#List of second set of nodes\n",
        "second_nodes= [\"A\",\"B\",\"C\",\"D\",\"E\"]\n",
        "\n",
        "#The next step is to add the first set of nodes \n",
        "G3.add_nodes_from(first_nodes, bipartite=0)\n",
        "\n",
        "#The next step is to add the second set of nodes\n",
        "G3.add_nodes_from(second_nodes, bipartite=1)\n",
        "\n",
        "#Adding edges to link the nodes \n",
        "G3.add_edges_from([(\"A\",1),(\"B\",1), (\"C\",1),(\"C\",3),(\"D\",2),(\"E\",3),(\"E\",4)])\n",
        "nx.draw(G3, pos=nx.drawing.layout.bipartite_layout(G3, second_nodes), node_color = [ 'red', 'red','red','red','green','green', 'green', 'green'\n",
        "    , 'green'], node_size = 1200,font_size=25, with_labels=True)\n",
        "plt.show()"
      ],
      "metadata": {
        "colab": {
          "base_uri": "https://localhost:8080/",
          "height": 319
        },
        "id": "r6NpcPlMb2hy",
        "outputId": "3e6bda86-54c4-442a-e169-df924a6d3492"
      },
      "execution_count": 44,
      "outputs": [
        {
          "output_type": "display_data",
          "data": {
            "image/png": "[encoded data removed]",
            "text/plain": [
              "<Figure size 432x288 with 1 Axes>"
            ]
          },
          "metadata": {}
        }
      ]
    },
    {
      "cell_type": "markdown",
      "source": [
        "b) **Computation of the adjacent matrix**"
      ],
      "metadata": {
        "id": "1oXS_cbWQbxq"
      }
    },
    {
      "cell_type": "code",
      "source": [
        "adj=nx.adjacency_matrix(G3) \n",
        "adj_G=adj.todense()\n",
        "adj_G"
      ],
      "metadata": {
        "colab": {
          "base_uri": "https://localhost:8080/"
        },
        "id": "ZRXVAmxDzLUH",
        "outputId": "a75461ca-8380-494a-f4c2-b276293dc56a"
      },
      "execution_count": 45,
      "outputs": [
        {
          "output_type": "execute_result",
          "data": {
            "text/plain": [
              "matrix([[0, 0, 0, 0, 1, 1, 1, 0, 0],\n",
              "        [0, 0, 0, 0, 0, 0, 0, 1, 0],\n",
              "        [0, 0, 0, 0, 0, 0, 1, 0, 1],\n",
              "        [0, 0, 0, 0, 0, 0, 0, 0, 1],\n",
              "        [1, 0, 0, 0, 0, 0, 0, 0, 0],\n",
              "        [1, 0, 0, 0, 0, 0, 0, 0, 0],\n",
              "        [1, 0, 1, 0, 0, 0, 0, 0, 0],\n",
              "        [0, 1, 0, 0, 0, 0, 0, 0, 0],\n",
              "        [0, 0, 1, 1, 0, 0, 0, 0, 0]], dtype=int64)"
            ]
          },
          "metadata": {},
          "execution_count": 45
        }
      ]
    },
    {
      "cell_type": "markdown",
      "source": [
        "The adjacency matrix of the network is \n",
        "\n",
        "\\begin{equation*}  G3=\n",
        "\t\t\\begin{bmatrix}\n",
        "\t0& 0& 0& 0& 1& 1& 1& 0&0\\\\\n",
        "\t0& 0& 0& 0& 0& 0& 0& 1& 0\\\\\n",
        "\t0& 0& 0& 0& 0& 0& 1 &0& 1\\\\\n",
        "\t0& 0& 0& 0& 0& 0& 0& 0& 1\\\\\n",
        "\t1& 0& 0& 0& 0& 0& 0& 0& 0\\\\\n",
        "\t1& 0& 0& 0& 0& 0& 0& 0& 0\\\\\n",
        "\t1& 0& 1& 0& 0& 0& 0& 0& 0\\\\\n",
        "\t0& 1& 0& 0& 0& 0& 0& 0& 0\\\\\n",
        "\t0 & 1& 1& 0& 0& 0& 0& 0 & 0\n",
        "\t\t\\end{bmatrix}\n",
        "\t\\end{equation*}\n",
        "\n",
        "\n",
        "  A block matrix is a matrix whose elements are themselves matrices, which are called submatrices.  The network above has disconnected components. Thus the adjacency matrix of the network can be arranged into a block matrix where we take into account of the submatrices ."
      ],
      "metadata": {
        "id": "ozHHcVTfU2Ts"
      }
    },
    {
      "cell_type": "markdown",
      "source": [
        "c) **Constructing the adjacency matrix of the two projections, on the green and on the red nodes**"
      ],
      "metadata": {
        "id": "iJXTfhpuQaYl"
      }
    },
    {
      "cell_type": "markdown",
      "source": [
        "##### **Adjacency matrix for the green nodes**"
      ],
      "metadata": {
        "id": "XAlJS_wTauDY"
      }
    },
    {
      "cell_type": "code",
      "source": [
        "A_g3=bipartite.weighted_projected_graph(G3,second_nodes)\n",
        "green_matrix= nx.adjacency_matrix(A_g3)\n",
        "green_matrix=green_matrix.toarray()\n",
        "green_matrix"
      ],
      "metadata": {
        "colab": {
          "base_uri": "https://localhost:8080/"
        },
        "id": "CyNApOL3azE5",
        "outputId": "d64ba44d-fffd-4592-dc0c-dbd932a34793"
      },
      "execution_count": 50,
      "outputs": [
        {
          "output_type": "execute_result",
          "data": {
            "text/plain": [
              "array([[0, 1, 1, 0, 0],\n",
              "       [1, 0, 1, 0, 0],\n",
              "       [1, 1, 0, 0, 1],\n",
              "       [0, 0, 0, 0, 0],\n",
              "       [0, 0, 1, 0, 0]], dtype=int64)"
            ]
          },
          "metadata": {},
          "execution_count": 50
        }
      ]
    },
    {
      "cell_type": "markdown",
      "source": [
        "##### **Adjacency matrix for the red nodes**\n"
      ],
      "metadata": {
        "id": "8AZAZZh4dvG6"
      }
    },
    {
      "cell_type": "code",
      "source": [
        "A_g4=bipartite.weighted_projected_graph(G3,first_nodes)\n",
        "red_matrix= nx.adjacency_matrix(A_g4)\n",
        "red_matrix=red_matrix.toarray()\n",
        "red_matrix"
      ],
      "metadata": {
        "colab": {
          "base_uri": "https://localhost:8080/"
        },
        "id": "IzvOrAPeekIL",
        "outputId": "0b580e37-332c-4c8f-c8f2-6846c9b00f59"
      },
      "execution_count": 51,
      "outputs": [
        {
          "output_type": "execute_result",
          "data": {
            "text/plain": [
              "array([[0, 0, 1, 0],\n",
              "       [0, 0, 0, 0],\n",
              "       [1, 0, 0, 1],\n",
              "       [0, 0, 1, 0]], dtype=int64)"
            ]
          },
          "metadata": {},
          "execution_count": 51
        }
      ]
    },
    {
      "cell_type": "markdown",
      "source": [
        "The adjacent matrix for the red nodes is \n",
        "\n",
        "$ \\begin{bmatrix}\n",
        "\t0 & 0 & 1 &0 \\\\\n",
        "\t0& 0& 0& 0\\\\\n",
        "\t1& 0& 0& 1\\\\\n",
        "\t0& 0& 1& 0\n",
        "\t\\end{bmatrix} $"
      ],
      "metadata": {
        "id": "lKM-8zAEgECk"
      }
    },
    {
      "cell_type": "markdown",
      "source": [
        "d) **Calculating the average degree of the green nodes and the average degree of the red nodes in the bipartite network.**"
      ],
      "metadata": {
        "id": "lOm6svWuR8Qf"
      }
    },
    {
      "cell_type": "markdown",
      "source": [
        "###### **Average degree of red nodes**"
      ],
      "metadata": {
        "id": "IzoH3gYtXFFo"
      }
    },
    {
      "cell_type": "code",
      "source": [
        "red_node= nx.bipartite.cluster.average_clustering(G3,nodes =[1,2,3,4])\n",
        "red_node"
      ],
      "metadata": {
        "colab": {
          "base_uri": "https://localhost:8080/"
        },
        "id": "3Wcl1JSW6Osn",
        "outputId": "fcec4bbe-e9c8-417c-f7e1-6adfb32e2d35"
      },
      "execution_count": 52,
      "outputs": [
        {
          "output_type": "execute_result",
          "data": {
            "text/plain": [
              "0.28125"
            ]
          },
          "metadata": {},
          "execution_count": 52
        }
      ]
    },
    {
      "cell_type": "markdown",
      "source": [
        "The red nodes have an average degree of 0.28125."
      ],
      "metadata": {
        "id": "0K3YkLNCZhsx"
      }
    },
    {
      "cell_type": "markdown",
      "source": [
        "#####**Average degree of green nodes**"
      ],
      "metadata": {
        "id": "YL4M7CGQGP88"
      }
    },
    {
      "cell_type": "code",
      "source": [
        "green_node= bipartite.cluster.average_clustering(G3,nodes =[\"A\",\"B\",\"C\",\"D\",\"E\"])\n",
        "green_node"
      ],
      "metadata": {
        "colab": {
          "base_uri": "https://localhost:8080/"
        },
        "id": "mhDnKyx87dUE",
        "outputId": "3d56c698-8f6f-49db-881d-be86252f100b"
      },
      "execution_count": 53,
      "outputs": [
        {
          "output_type": "execute_result",
          "data": {
            "text/plain": [
              "0.45555555555555555"
            ]
          },
          "metadata": {},
          "execution_count": 53
        }
      ]
    },
    {
      "cell_type": "markdown",
      "source": [
        "The green nodes have an average degree of 0.45556."
      ],
      "metadata": {
        "id": "Pfo0LeEwZk63"
      }
    },
    {
      "cell_type": "markdown",
      "source": [
        "e) **Calculating the average degree in each of the two network projections.**"
      ],
      "metadata": {
        "id": "gd-NYYcWYVFR"
      }
    },
    {
      "cell_type": "markdown",
      "source": [
        "###### **The average degree of the left projection**"
      ],
      "metadata": {
        "id": "fGExbnsGYjUb"
      }
    },
    {
      "cell_type": "code",
      "source": [
        "\n",
        "green_projection=bipartite.projected_graph(G3,[\"A\",\"B\",\"C\",\"D\",\"E\"])\n",
        "nx.average_clustering(green_projection)"
      ],
      "metadata": {
        "colab": {
          "base_uri": "https://localhost:8080/"
        },
        "id": "ZiuWDCal9g2R",
        "outputId": "cae6bc34-952b-40ed-8e4f-33cdef82c339"
      },
      "execution_count": 57,
      "outputs": [
        {
          "output_type": "execute_result",
          "data": {
            "text/plain": [
              "0.4666666666666667"
            ]
          },
          "metadata": {},
          "execution_count": 57
        }
      ]
    },
    {
      "cell_type": "markdown",
      "source": [
        "###### **The average degree of the right projection**"
      ],
      "metadata": {
        "id": "weVh2fVnY6TV"
      }
    },
    {
      "cell_type": "code",
      "source": [
        "red_projection=bipartite.projected_graph(G3,[1,2,3,4])\n",
        "nx.average_clustering(red_projection)"
      ],
      "metadata": {
        "id": "A1i2vs22JhIG",
        "colab": {
          "base_uri": "https://localhost:8080/"
        },
        "outputId": "5b108fc3-74d9-4eac-8b43-62c2855a7121"
      },
      "execution_count": 56,
      "outputs": [
        {
          "output_type": "execute_result",
          "data": {
            "text/plain": [
              "0.0"
            ]
          },
          "metadata": {},
          "execution_count": 56
        }
      ]
    },
    {
      "cell_type": "markdown",
      "source": [
        "**Is it surprising\n",
        "that the values are different from those obtained in point?**"
      ],
      "metadata": {
        "id": "n1WCd1tfu0xJ"
      }
    },
    {
      "cell_type": "markdown",
      "source": [
        "It is not surprising that the two computations have different values since for the projection of the network we consider group and vertext projection. To compute the group projection we take into account connected groups that share at least a common vertex and for the vertex projection we only consider connected vertices which belong to at least a common group.\n",
        "While computing the average degree we take into account the degree on a particular node and compute the number of links incident to that particular node."
      ],
      "metadata": {
        "id": "QEMLdxPIu4Ku"
      }
    }
  ]
}